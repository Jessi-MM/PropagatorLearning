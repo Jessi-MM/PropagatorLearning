{
 "cells": [
  {
   "cell_type": "code",
   "execution_count": 249,
   "id": "569a21f5",
   "metadata": {},
   "outputs": [],
   "source": [
    "import torch\n",
    "from torch import nn\n",
    "from torch.utils.data import DataLoader\n",
    "from torchvision import datasets\n",
    "from torchvision.transforms import ToTensor\n",
    "from torch.utils.data.sampler import SubsetRandomSampler\n",
    "from torch.utils.data import Dataset\n",
    "import numpy as np\n",
    "from matplotlib import pyplot as plt\n",
    "from scipy import integrate"
   ]
  },
  {
   "cell_type": "code",
   "execution_count": 93,
   "id": "c8d41296",
   "metadata": {},
   "outputs": [],
   "source": [
    "class Propagator_Dataset(Dataset):\n",
    "    \n",
    "    def __init__(self, data, targets, total_data = 19800, transform=True):\n",
    "        \n",
    "        self.data = data\n",
    "        self.targets = targets\n",
    "        self.transform = transform\n",
    "        self.total_data = total_data\n",
    "        \n",
    "    def __getitem__(self, index):\n",
    "        \n",
    "        total_data = self.total_data  # 198 data by file, 1000 files(from 0 to 999), total data: 198*100 = 19800\n",
    "        \n",
    "        if index > total_data:\n",
    "            print(\"Error, this data does not exist\")\n",
    "        else:\n",
    "            index_data = (index//199)%199  # because there 198 data per file\n",
    "            index_t = (index-199)%199\n",
    "            \n",
    "            # Input data: Wavepacket real and imaginary part + Potential at time t\n",
    "            x_r = (np.load(self.data+str(index_data)+'/Wavepacket/'+str(index_t)+'-wave.npy')).real\n",
    "            x_i = (np.load(self.data+str(index_data)+'/Wavepacket/'+str(index_t)+'-wave.npy')).imag\n",
    "            x_p = np.load(self.data+str(index_data)+'/Potential/'+str(index_t)+'-potential.npy')\n",
    "            # Output data: Wavepacket real and imaginary part at time t+1*step\n",
    "            y_r = (np.load(self.targets+str(index_data)+'/Wavepacket/'+str(index_t+1)+'-wave.npy')).real\n",
    "            y_i = (np.load(self.targets+str(index_data)+'/Wavepacket/'+str(index_t+1)+'-wave.npy')).imag\n",
    "        \n",
    "            x = np.concatenate((x_r, x_i, x_p))  # flat array form\n",
    "\n",
    "            y = np.concatenate((y_r, y_i))  # flat array form\n",
    "        \n",
    "            if self.transform:\n",
    "                x = torch.from_numpy(x)\n",
    "                y = torch.from_numpy(y)\n",
    "        \n",
    "            return x, y\n",
    "    \n",
    "    def __len__(self):\n",
    "        \n",
    "        \n",
    "        return self.total_data\n",
    "\n"
   ]
  },
  {
   "cell_type": "code",
   "execution_count": 94,
   "id": "18d226be",
   "metadata": {},
   "outputs": [],
   "source": [
    "dataset = Propagator_Dataset(data='../../Data_Gaussian/data', targets='../../Data_Gaussian/data', transform=True)\n",
    "batch_size = 16\n",
    "validation_split = .1  #9:1 ratio\n",
    "shuffle_dataset = True\n",
    "random_seed= 42"
   ]
  },
  {
   "cell_type": "code",
   "execution_count": 95,
   "id": "82d87d1d",
   "metadata": {},
   "outputs": [
    {
     "name": "stdout",
     "output_type": "stream",
     "text": [
      "Total de datos:  19800\n"
     ]
    }
   ],
   "source": [
    "dataset_size = len(dataset)\n",
    "print('Total de datos: ', dataset_size)\n",
    "\n"
   ]
  },
  {
   "cell_type": "code",
   "execution_count": 96,
   "id": "e0ac565a",
   "metadata": {},
   "outputs": [],
   "source": [
    "# Creating data indices for training and validation splits:\n",
    "indices = list(range(dataset_size))\n",
    "split = int(np.floor(validation_split * dataset_size))\n",
    "if shuffle_dataset :\n",
    "    np.random.seed(random_seed)\n",
    "    np.random.shuffle(indices)\n",
    "train_indices, val_indices = indices[split:], indices[:split]\n",
    "\n",
    "# Creating PT data samplers and loaders:\n",
    "train_sampler = SubsetRandomSampler(train_indices)\n",
    "valid_sampler = SubsetRandomSampler(val_indices)\n",
    "\n"
   ]
  },
  {
   "cell_type": "code",
   "execution_count": 97,
   "id": "772d0120",
   "metadata": {},
   "outputs": [],
   "source": [
    "train_loader = DataLoader(dataset, batch_size=batch_size, sampler=train_sampler)\n",
    "validation_loader = DataLoader(dataset, batch_size=batch_size, sampler=valid_sampler)"
   ]
  },
  {
   "cell_type": "code",
   "execution_count": 163,
   "id": "455a4884",
   "metadata": {},
   "outputs": [
    {
     "data": {
      "text/plain": [
       "torch.utils.data.dataloader.DataLoader"
      ]
     },
     "execution_count": 163,
     "metadata": {},
     "output_type": "execute_result"
    }
   ],
   "source": [
    "type(train_loader)"
   ]
  },
  {
   "cell_type": "code",
   "execution_count": 278,
   "id": "07e1ea1b",
   "metadata": {},
   "outputs": [
    {
     "name": "stdout",
     "output_type": "stream",
     "text": [
      "\n",
      "\n",
      " Parte real e imag:\n",
      " tensor([-8.7661e-11+2.1148e-09j,  8.1051e-05+4.3326e-04j,\n",
      "        -5.7365e-05-9.5819e-04j,  2.0502e-04+1.5007e-03j,\n",
      "        -9.6248e-05-2.0590e-03j,  1.0534e-03+3.7450e-03j,\n",
      "        -2.2863e-03-4.9139e-03j, -2.8312e-03+5.3269e-03j,\n",
      "        -1.4290e-04-6.8579e-03j,  3.6966e-03+1.1966e-02j,\n",
      "        -9.4212e-05-2.4247e-02j,  4.6003e-03-6.0915e-02j,\n",
      "         4.3763e-02-3.2299e-01j,  1.9723e-01-3.6082e-01j,\n",
      "         2.0322e-01-2.5784e-01j,  3.1144e-01-4.0675e-02j,\n",
      "         7.8671e-01-1.3906e-01j,  1.1477e+00+1.2916e-01j,\n",
      "         8.7577e-01+4.3778e-01j,  5.4112e-01+7.3656e-01j,\n",
      "         6.0376e-01+6.1728e-01j,  5.4036e-01+3.5710e-01j,\n",
      "         2.0810e-01+4.6801e-02j,  3.7933e-02+4.4262e-02j,\n",
      "        -2.6042e-03+2.1531e-02j,  4.9427e-03+3.2363e-02j,\n",
      "        -1.4618e-03+8.6240e-04j, -5.2431e-04+6.7269e-03j,\n",
      "        -5.9739e-04-4.8025e-03j, -1.4643e-03+2.8804e-03j,\n",
      "        -1.0007e-03-1.3959e-03j,  2.2864e-06+1.4051e-06j],\n",
      "       dtype=torch.complex128)\n",
      "\n",
      "\n",
      " Parte real e imag:\n",
      " tensor([-6.5906e-39-1.5606e-39j,  1.9856e-04-5.9394e-04j,\n",
      "        -4.4634e-04+1.4002e-03j,  8.2439e-04-2.4667e-03j,\n",
      "        -1.5200e-03+3.9511e-03j,  2.1036e-03-5.9780e-03j,\n",
      "        -2.8789e-03+9.0156e-03j,  4.6696e-03-1.4427e-02j,\n",
      "        -7.2505e-03+2.1450e-02j,  1.0905e-02-1.9468e-02j,\n",
      "        -1.4373e-03+6.7452e-02j, -1.0507e-01-3.5724e-02j,\n",
      "        -2.5970e-01+3.5819e-01j,  2.0781e-01-2.6612e-01j,\n",
      "         2.8100e-01-3.9946e-02j, -2.1638e-01-1.4616e-01j,\n",
      "        -6.4207e-01-3.0781e-01j, -7.6050e-01-1.2823e+00j,\n",
      "        -9.2383e-01-7.2966e-01j, -2.2373e-01-7.7636e-01j,\n",
      "         1.0810e-01-1.1853e-01j,  3.6335e-01+1.0651e-01j,\n",
      "         1.4460e-01+1.6935e-01j,  1.5448e-02+1.4211e-02j,\n",
      "        -2.4403e-02+4.9485e-02j,  2.8800e-03-2.0322e-02j,\n",
      "        -4.6711e-03+1.5226e-02j,  2.8500e-03-1.1023e-02j,\n",
      "        -2.0535e-03+6.6946e-03j,  1.4440e-03-4.3669e-03j,\n",
      "        -8.2736e-04+2.6554e-03j, -4.4378e-12-6.1141e-12j],\n",
      "       dtype=torch.complex128)\n",
      "[-1.38005965e-47  3.78878252e-08  3.47351665e-07  7.31449672e-07\n",
      "  2.74928193e-06  1.58090741e-06 -6.46547131e-06  6.57189847e-05\n",
      "  4.66580381e-05  5.85213638e-05  2.84948770e-05  6.23568180e-03\n",
      "  9.95569734e-02 -1.27471713e-01 -8.05707252e-02 -3.67201111e-02\n",
      " -1.52870938e-01 -1.56999331e+00 -1.04345071e+00 -5.84894942e-01\n",
      " -4.83264608e-03  1.87306461e-01  4.20079870e-02  1.22282636e-03\n",
      " -6.54284315e-04 -7.24202728e-06 -2.62861747e-05  2.49510434e-05\n",
      "  5.86288455e-06  1.05536798e-05 -1.50243801e-06 -2.02147122e-17]\n",
      "\n",
      "\n",
      " multiplicacion: tensor(-0.9531-3.2649j, dtype=torch.complex128)\n"
     ]
    }
   ],
   "source": [
    "for X, y in validation_loader:\n",
    "    #print(f\"Shape of X [N, C, H, W]: {X.shape}\")\n",
    "    #print(f\"Shape of y: {y.shape} {y.dtype}\")\n",
    "    #print(f\"\\nmuestra de un batch:\\n\", X)\n",
    "    #print(f\"\\nmuestra de un batch parte real:\\n\", X[:,0:32])\n",
    "    #print(f\"\\nmuestra de un batch parte imag:\\n\", X[:,32:64])\n",
    "    #print(f\"\\n\\n Parte real e imag:\", torch.cat((X[:,0:32],X[:,32:64]),1).shape)\n",
    "    \n",
    "    #print(f\"\\nmuestra de un batch parte real:\\n\", X[0,0:32])\n",
    "    #print(f\"\\nmuestra de un batch parte imag:\\n\", X[0,32:64])\n",
    "    a = torch.view_as_complex(torch.stack((X[0,0:32],X[0,32:64]), -1))\n",
    "    b = torch.view_as_complex(torch.stack((X[1,0:32],X[1,32:64]), -1))\n",
    "    print(f\"\\n\\n Parte real e imag:\\n\", a)\n",
    "    print(f\"\\n\\n Parte real e imag:\\n\", b)\n",
    "    prueba = []\n",
    "    for i in range(32):\n",
    "        prueba.append(torch.tensor([a[i]*b[i]]))\n",
    "        \n",
    "    print((torch.tensor(prueba).imag).numpy())\n",
    "    print(f\"\\n\\n multiplicacion:\", torch.matmul(a,b))\n",
    "    break\n",
    "\n",
    "    \n",
    "   "
   ]
  },
  {
   "cell_type": "code",
   "execution_count": 99,
   "id": "df0ec11c",
   "metadata": {},
   "outputs": [
    {
     "name": "stdout",
     "output_type": "stream",
     "text": [
      "NeuralNetwork(\n",
      "  (layers): Sequential(\n",
      "    (0): Linear(in_features=96, out_features=1024, bias=True)\n",
      "    (1): ReLU()\n",
      "    (2): ReLU()\n",
      "    (3): ReLU()\n",
      "    (4): Linear(in_features=1024, out_features=64, bias=True)\n",
      "  )\n",
      ")\n"
     ]
    }
   ],
   "source": [
    "device = \"cpu\"\n",
    "# Define model\n",
    "class NeuralNetwork(nn.Module):\n",
    "    def __init__(self):\n",
    "        super().__init__()\n",
    "        self.layers = nn.Sequential(\n",
    "            nn.Linear(96, 1024),\n",
    "            nn.ReLU(),\n",
    "            nn.ReLU(),\n",
    "            nn.ReLU(),\n",
    "            nn.Linear(1024, 64)\n",
    "        )\n",
    "        \n",
    "    def forward(self, x):\n",
    "        return self.layers(x)\n",
    "\n",
    "model = NeuralNetwork().to(device)\n",
    "print(model)"
   ]
  },
  {
   "cell_type": "code",
   "execution_count": 100,
   "id": "2ac9b9ce",
   "metadata": {},
   "outputs": [],
   "source": [
    "loss_fn = nn.MSELoss()\n",
    "optimizer = torch.optim.SGD(model.parameters(), lr=1e-3)"
   ]
  },
  {
   "cell_type": "code",
   "execution_count": 101,
   "id": "c27efc83",
   "metadata": {},
   "outputs": [],
   "source": [
    "def train(dataloader, model, loss_fn, optimizer):\n",
    "    size = len(dataloader.dataset)\n",
    "    model.train()\n",
    "    for batch, (X, y) in enumerate(dataloader):\n",
    "        X, y = X.to(device), y.to(device)\n",
    "\n",
    "        # Compute prediction error\n",
    "        pred = model(X.float())\n",
    "        loss = loss_fn(pred, y.float())\n",
    "\n",
    "        # Backpropagation\n",
    "        optimizer.zero_grad()\n",
    "        loss.backward()\n",
    "        optimizer.step()\n",
    "\n",
    "        if batch % 100 == 0:\n",
    "            loss, current = loss.item(), batch * len(X)\n",
    "            print(f\"loss: {loss:>7f}  [{current:>5d}/{size:>5d}]\")"
   ]
  },
  {
   "cell_type": "code",
   "execution_count": 293,
   "id": "be5af01f",
   "metadata": {},
   "outputs": [],
   "source": [
    "def S_overlap(Psi_true, Psi_ANN):\n",
    "    \"\"\"\n",
    "    Input:\n",
    "    Psi_true: Evolution of wavepacket from dataset test\n",
    "    Psi_ANN: Evolution of wavepacket predicted with the model\n",
    "    \n",
    "    Output:\n",
    "    S: Absolute magnitude\n",
    "    angle: phase\n",
    "    Characterizes the quality of the predictions. See equation (11) of Main article\n",
    "    \n",
    "    \"\"\"\n",
    "    \n",
    "    Psi_true_re = Psi_true[:,0:32]  # real part of wavepacket\n",
    "    Psi_true_im = Psi_true[:,32:64]  # imaginary part of wavepacket\n",
    "    Psi_t = torch.view_as_complex(torch.stack((Psi_true_re,Psi_true_im), -1))\n",
    "    \n",
    "    \n",
    "    Psi_ANN_re = Psi_ANN[:,0:32]  # realpart of wavepacket predicted\n",
    "    Psi_ANN_im = -Psi_ANN[:,32:64]  # imaginary part of wavepacket predicted (- because conjugate)\n",
    "    Psi_A = torch.view_as_complex(torch.stack((Psi_ANN_re,Psi_ANN_im), -1))\n",
    "    \n",
    "    S_tot = []\n",
    "    angle_tot = []\n",
    "    for j in range(batch_size):\n",
    "        overlap = []\n",
    "        for i in range(32):\n",
    "            overlap.append(torch.tensor([Psi_A[j,i]*Psi_t[j,i]]))\n",
    "        overl = torch.tensor(overlap)\n",
    "        \n",
    "        # Integrate over r (real integral + complex integral)\n",
    "        # Simpson method in the grid r_n (angstroms -> au)\n",
    "        r_n = np.linspace(-1.5,1.5,32)*(1/0.5291775)\n",
    "        overl_real = overl.real.numpy()\n",
    "        overl_imag = overl.imag.numpy()\n",
    "    \n",
    "        real_integ = integrate.simpson(overl_real, r_n)\n",
    "        imag_integ = integrate.simpson(overl_imag, r_n)\n",
    "    \n",
    "        # Covert to phase and magnitude of the complex result\n",
    "        S_tot.append(np.sqrt(real_integ**2 + imag_integ**2))\n",
    "        angle_tot.append(np.arctan(imag_integ/real_integ))\n",
    "        \n",
    "    S = sum(S_tot)*batch_size\n",
    "    angle = sum(angle_tot)*batch_size\n",
    "    \n",
    "    return S, angle\n",
    "    \n",
    "    \n",
    "    \n",
    "    \n",
    "    \n",
    "    "
   ]
  },
  {
   "cell_type": "code",
   "execution_count": 294,
   "id": "8fa3a4e4",
   "metadata": {},
   "outputs": [],
   "source": [
    "def test(dataloader, model, loss_fn):\n",
    "    size = len(dataloader.dataset)\n",
    "    num_batches = len(dataloader)\n",
    "    model.eval()\n",
    "    test_loss, correct = 0, 0\n",
    "    \n",
    "    #S_list = []\n",
    "    phase_list = []\n",
    "    with torch.no_grad():\n",
    "        for X, y in dataloader:                                                                                                                                                                                                                                                                                                                                                                                                                                                                                                                                                                                                                                                                                                                                                                                                                                                                                                                                                                                                                                                                             \n",
    "            X, y = X.to(device), y.to(device)\n",
    "            pred = model(X.float())\n",
    "            test_loss += loss_fn(pred, y).item()\n",
    "            S, angle = S_overlap(y, pred)  # Accuracy by equation (11) Main Article\n",
    "            #S_list.append(S)\n",
    "            phase_list.append(angle)\n",
    "                   \n",
    "            correct += S\n",
    "    test_loss /= num_batches\n",
    "    correct /= size\n",
    "    print(f\"Test Error: \\n Accuracy: {(100*correct):>0.1f}%, Avg loss: {test_loss:>8f} \\n\")"
   ]
  },
  {
   "cell_type": "code",
   "execution_count": 295,
   "id": "b7e04cc9",
   "metadata": {},
   "outputs": [
    {
     "name": "stdout",
     "output_type": "stream",
     "text": [
      "Epoch 1\n",
      "-------------------------------\n",
      "loss: 0.066753  [    0/19800]\n",
      "loss: 0.070176  [ 1600/19800]\n",
      "loss: 0.067936  [ 3200/19800]\n",
      "loss: 0.064789  [ 4800/19800]\n",
      "loss: 0.064215  [ 6400/19800]\n",
      "loss: 0.073482  [ 8000/19800]\n",
      "loss: 0.066177  [ 9600/19800]\n",
      "loss: 0.066449  [11200/19800]\n",
      "loss: 0.061758  [12800/19800]\n",
      "loss: 0.069361  [14400/19800]\n",
      "loss: 0.060303  [16000/19800]\n",
      "loss: 0.067573  [17600/19800]\n",
      "Test Error: \n",
      " Accuracy: 13.7%, Avg loss: 0.067577 \n",
      "\n",
      "Epoch 2\n",
      "-------------------------------\n",
      "loss: 0.067271  [    0/19800]\n",
      "loss: 0.074274  [ 1600/19800]\n",
      "loss: 0.063896  [ 3200/19800]\n",
      "loss: 0.076873  [ 4800/19800]\n",
      "loss: 0.077533  [ 6400/19800]\n",
      "loss: 0.077634  [ 8000/19800]\n",
      "loss: 0.066364  [ 9600/19800]\n",
      "loss: 0.071572  [11200/19800]\n",
      "loss: 0.077043  [12800/19800]\n",
      "loss: 0.070274  [14400/19800]\n",
      "loss: 0.058527  [16000/19800]\n",
      "loss: 0.070223  [17600/19800]\n",
      "Test Error: \n",
      " Accuracy: 13.9%, Avg loss: 0.067393 \n",
      "\n",
      "Epoch 3\n",
      "-------------------------------\n",
      "loss: 0.058148  [    0/19800]\n",
      "loss: 0.066741  [ 1600/19800]\n",
      "loss: 0.063880  [ 3200/19800]\n",
      "loss: 0.062848  [ 4800/19800]\n",
      "loss: 0.067070  [ 6400/19800]\n",
      "loss: 0.071517  [ 8000/19800]\n",
      "loss: 0.060581  [ 9600/19800]\n",
      "loss: 0.071085  [11200/19800]\n",
      "loss: 0.067124  [12800/19800]\n",
      "loss: 0.059192  [14400/19800]\n",
      "loss: 0.064405  [16000/19800]\n",
      "loss: 0.071226  [17600/19800]\n",
      "Test Error: \n",
      " Accuracy: 13.7%, Avg loss: 0.067279 \n",
      "\n",
      "Done!\n"
     ]
    }
   ],
   "source": [
    "epochs = 50\n",
    "for t in range(epochs):\n",
    "    print(f\"Epoch {t+1}\\n-------------------------------\")\n",
    "    train(train_loader, model, loss_fn, optimizer)\n",
    "    test(validation_loader, model, loss_fn)\n",
    "print(\"Done!\")"
   ]
  },
  {
   "cell_type": "code",
   "execution_count": null,
   "id": "94b236ac",
   "metadata": {},
   "outputs": [],
   "source": []
  },
  {
   "cell_type": "code",
   "execution_count": null,
   "id": "601a429d",
   "metadata": {},
   "outputs": [],
   "source": []
  },
  {
   "cell_type": "code",
   "execution_count": null,
   "id": "4fe368c6",
   "metadata": {},
   "outputs": [],
   "source": []
  },
  {
   "cell_type": "code",
   "execution_count": null,
   "id": "16844ea2",
   "metadata": {},
   "outputs": [],
   "source": []
  },
  {
   "cell_type": "code",
   "execution_count": null,
   "id": "a68f6681",
   "metadata": {},
   "outputs": [],
   "source": []
  },
  {
   "cell_type": "code",
   "execution_count": null,
   "id": "74021846",
   "metadata": {},
   "outputs": [],
   "source": []
  },
  {
   "cell_type": "code",
   "execution_count": null,
   "id": "ffcc8287",
   "metadata": {},
   "outputs": [],
   "source": []
  },
  {
   "cell_type": "code",
   "execution_count": null,
   "id": "4d479ce3",
   "metadata": {},
   "outputs": [],
   "source": []
  },
  {
   "cell_type": "code",
   "execution_count": null,
   "id": "379f344a",
   "metadata": {},
   "outputs": [],
   "source": []
  },
  {
   "cell_type": "code",
   "execution_count": null,
   "id": "15c90e3c",
   "metadata": {},
   "outputs": [],
   "source": []
  },
  {
   "cell_type": "code",
   "execution_count": null,
   "id": "085907b3",
   "metadata": {},
   "outputs": [],
   "source": []
  },
  {
   "cell_type": "code",
   "execution_count": null,
   "id": "42f12e4b",
   "metadata": {},
   "outputs": [],
   "source": []
  },
  {
   "cell_type": "code",
   "execution_count": null,
   "id": "6af31c99",
   "metadata": {},
   "outputs": [],
   "source": []
  },
  {
   "cell_type": "markdown",
   "id": "a3bc8739",
   "metadata": {},
   "source": [
    "## Inference"
   ]
  },
  {
   "cell_type": "code",
   "execution_count": 106,
   "id": "167da465",
   "metadata": {},
   "outputs": [],
   "source": [
    "# Nota : Crear datos nuevos gaussianos\n",
    "\n",
    "X1 = np.load(\"../../Data_Test/data_test0/Wavepacket/0-wave.npy\")\n",
    "X1p = np.load(\"../../Data_Test/data_test0/Potential/0-potential.npy\")\n",
    "\n",
    "Y1 = np.load(\"../../Data_Test/data_test0/Wavepacket/1-wave.npy\")\n",
    "\n",
    "\n",
    "X1_t = np.concatenate((X1.real,X1.imag, X1p))\n",
    "Y1_t = np.concatenate((Y1.real, Y1.imag))\n",
    "\n"
   ]
  },
  {
   "cell_type": "code",
   "execution_count": null,
   "id": "ef812c0d",
   "metadata": {},
   "outputs": [],
   "source": []
  },
  {
   "cell_type": "code",
   "execution_count": null,
   "id": "e9c03357",
   "metadata": {},
   "outputs": [],
   "source": []
  },
  {
   "cell_type": "code",
   "execution_count": null,
   "id": "9bbfbac5",
   "metadata": {},
   "outputs": [],
   "source": []
  },
  {
   "cell_type": "code",
   "execution_count": null,
   "id": "35319fc2",
   "metadata": {},
   "outputs": [],
   "source": []
  },
  {
   "cell_type": "code",
   "execution_count": 107,
   "id": "0725c56a",
   "metadata": {},
   "outputs": [],
   "source": [
    "y1_pred = model(torch.from_numpy(X1_t).float())"
   ]
  },
  {
   "cell_type": "code",
   "execution_count": 108,
   "id": "05417004",
   "metadata": {},
   "outputs": [
    {
     "data": {
      "text/plain": [
       "tensor([ 0.0106,  0.0017,  0.0703, -0.0201, -0.0005, -0.0042,  0.0202, -0.0696,\n",
       "        -0.0741,  0.0551, -0.0119, -0.0725, -0.0202, -0.0118,  0.0874,  0.0404,\n",
       "         0.0610, -0.0615,  0.0387, -0.0162, -0.0304,  0.0092, -0.0300, -0.0081,\n",
       "        -0.0661,  0.0159, -0.0139, -0.0535, -0.0779,  0.0864, -0.0050, -0.0044,\n",
       "        -0.0139, -0.0046,  0.0536, -0.0701,  0.0788, -0.0506, -0.0038, -0.0738,\n",
       "         0.0263, -0.1217, -0.0156,  0.0027,  0.1448,  0.0521,  0.1023, -0.0009,\n",
       "         0.0915,  0.0320,  0.1352,  0.0044,  0.0516,  0.0773,  0.0538,  0.0437,\n",
       "         0.0631, -0.0149,  0.0580, -0.0586, -0.0058,  0.0359,  0.0220, -0.0012],\n",
       "       grad_fn=<AddBackward0>)"
      ]
     },
     "execution_count": 108,
     "metadata": {},
     "output_type": "execute_result"
    }
   ],
   "source": [
    "y1_pred"
   ]
  },
  {
   "cell_type": "code",
   "execution_count": 68,
   "id": "5da296bc",
   "metadata": {},
   "outputs": [],
   "source": [
    "y1_pred1 = torch.tensor([-0.0166,  0.0346, -0.0005,  0.0188,  0.0619,  0.0856,  0.1002,  0.0796,\n",
    "         0.0334,  0.0226, -0.0359, -0.0084,  0.0503,  0.0580,  0.0692,  0.0178,\n",
    "         0.0141,  0.0503,  0.0331,  0.0371,  0.0193, -0.0240, -0.0067, -0.0662,\n",
    "         0.0392,  0.0461,  0.0179,  0.0103, -0.0258, -0.0050,  0.0748, -0.0099,\n",
    "         0.0242, -0.0081, -0.0366, -0.0128,  0.0166, -0.0467,  0.0156,  0.0529,\n",
    "         0.0618,  0.0320,  0.0029,  0.0386, -0.0745,  0.0592,  0.0810,  0.0839,\n",
    "         0.0351,  0.0059,  0.0264,  0.0072,  0.0178,  0.0476, -0.0012,  0.0869,\n",
    "         0.0023,  0.0960,  0.0039,  0.0224, -0.0173,  0.0321, -0.0770,  0.0133], requires_grad=True)"
   ]
  },
  {
   "cell_type": "code",
   "execution_count": null,
   "id": "2be32982",
   "metadata": {},
   "outputs": [],
   "source": []
  },
  {
   "cell_type": "code",
   "execution_count": 109,
   "id": "5c26466b",
   "metadata": {},
   "outputs": [],
   "source": [
    "y1_r = [ 0.0106,  0.0017,  0.0703, -0.0201, -0.0005, -0.0042,  0.0202, -0.0696,\n",
    "        -0.0741,  0.0551, -0.0119, -0.0725, -0.0202, -0.0118,  0.0874,  0.0404,\n",
    "         0.0610, -0.0615,  0.0387, -0.0162, -0.0304,  0.0092, -0.0300, -0.0081,\n",
    "        -0.0661,  0.0159, -0.0139, -0.0535, -0.0779,  0.0864, -0.0050, -0.0044]"
   ]
  },
  {
   "cell_type": "code",
   "execution_count": 110,
   "id": "7257c246",
   "metadata": {},
   "outputs": [],
   "source": [
    "y1_r = np.array(y1_r)"
   ]
  },
  {
   "cell_type": "code",
   "execution_count": 111,
   "id": "035a0ddc",
   "metadata": {},
   "outputs": [
    {
     "data": {
      "image/png": "[encoded data removed]",
      "text/plain": [
       "<Figure size 432x288 with 1 Axes>"
      ]
     },
     "metadata": {
      "needs_background": "light"
     },
     "output_type": "display_data"
    }
   ],
   "source": [
    "r_n = np.linspace(-1.5,1.5,32)\n",
    "fig, ax = plt.subplots()\n",
    "ax.set_title(r\"$\\Psi(r,t=0)$\")\n",
    "ax.set_xlabel('Position ($\\AA$)')\n",
    "ax.set_ylabel('$\\Psi(r,t)$')\n",
    "\n",
    "# Lenght: au -> Angstroms\n",
    "ax.plot(r_n, X1.real, label=\"$\\Psi_{real}(r, t=0)_{generate}$\")\n",
    "ax.plot(r_n, Y1.real, label=\"$\\Psi_{real}(r, t=1)_{generate}$\")\n",
    "\n",
    "ax.plot(r_n, y1_r, label=\"$\\Psi_{real}(r, t=1)_{predicted}$\")\n",
    "\n",
    "ax.legend()\n",
    "plt.show()"
   ]
  },
  {
   "cell_type": "code",
   "execution_count": null,
   "id": "e37792d7",
   "metadata": {},
   "outputs": [],
   "source": []
  }
 ],
 "metadata": {
  "kernelspec": {
   "display_name": "Python 3 (ipykernel)",
   "language": "python",
   "name": "python3"
  },
  "language_info": {
   "codemirror_mode": {
    "name": "ipython",
    "version": 3
   },
   "file_extension": ".py",
   "mimetype": "text/x-python",
   "name": "python",
   "nbconvert_exporter": "python",
   "pygments_lexer": "ipython3",
   "version": "3.9.7"
  }
 },
 "nbformat": 4,
 "nbformat_minor": 5
}
